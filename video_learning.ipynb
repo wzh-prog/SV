{
 "cells": [
  {
   "cell_type": "code",
   "execution_count": null,
   "metadata": {},
   "outputs": [],
   "source": [
    "from torchvision.datasets import HMDB51, Kinetics, UCF101"
   ]
  },
  {
   "cell_type": "markdown",
   "metadata": {},
   "source": [
    "data_url = \"https://serre-lab.clps.brown.edu/wp-content/uploads/2013/10/hmdb51_org.rar\"\n",
    "\n",
    "splits = {\n",
    "    \"url\": \"https://serre-lab.clps.brown.edu/wp-content/uploads/2013/10/test_train_splits.rar\",\n",
    "    \"md5\": \"15e67781e70dcfbdce2d7dbb9b3344b5\",\n",
    "}\n",
    "\n",
    "还可以下载Kinetics  我看到它源码里面有400 600 700"
   ]
  },
  {
   "cell_type": "code",
   "execution_count": null,
   "metadata": {},
   "outputs": [],
   "source": [
    "hmdb51_ = HMDB51(\n",
    "    root=\"./data/HMDB51/hmdb51_org/\", \n",
    "    annotation_path=\"./data/HMDB51/test_train_splits/testTrainMulti_7030_splits/\", \n",
    "    frames_per_clip= 10,\n",
    "    fold=2\n",
    "\n",
    ") # 数据集地址下载链接在源码里面"
   ]
  },
  {
   "cell_type": "code",
   "execution_count": null,
   "metadata": {},
   "outputs": [],
   "source": [
    "len(hmdb51_)"
   ]
  },
  {
   "cell_type": "code",
   "execution_count": null,
   "metadata": {},
   "outputs": [],
   "source": [
    "hmdb51_.classes"
   ]
  },
  {
   "cell_type": "code",
   "execution_count": null,
   "metadata": {},
   "outputs": [],
   "source": [
    "from video_refs.datasets import Hmdb51WithVideoId"
   ]
  },
  {
   "cell_type": "code",
   "execution_count": null,
   "metadata": {},
   "outputs": [],
   "source": [
    "test = Hmdb51WithVideoId(\n",
    "            root=\"./data/HMDB51/hmdb51_org/\", \n",
    "            annotation_path=\"./data/HMDB51/test_train_splits/testTrainMulti_7030_splits/\", \n",
    "            frames_per_clip= 20,\n",
    "            train=False,\n",
    "            output_format=\"TCHW\"\n",
    "        )"
   ]
  },
  {
   "cell_type": "code",
   "execution_count": null,
   "metadata": {},
   "outputs": [],
   "source": [
    "test.classes\n",
    "test[1999]\n",
    "len(test)\n"
   ]
  }
 ],
 "metadata": {
  "kernelspec": {
   "display_name": "base",
   "language": "python",
   "name": "python3"
  },
  "language_info": {
   "codemirror_mode": {
    "name": "ipython",
    "version": 3
   },
   "file_extension": ".py",
   "mimetype": "text/x-python",
   "name": "python",
   "nbconvert_exporter": "python",
   "pygments_lexer": "ipython3",
   "version": "3.8.18"
  }
 },
 "nbformat": 4,
 "nbformat_minor": 2
}
