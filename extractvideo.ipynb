{
 "cells": [
  {
   "cell_type": "code",
   "execution_count": 1,
   "metadata": {},
   "outputs": [
    {
     "name": "stdout",
     "output_type": "stream",
     "text": [
      "2.0.0+cu117\n",
      "2.0.1+cu117\n"
     ]
    }
   ],
   "source": [
    "import torch\n",
    "import torchaudio\n",
    "\n",
    "print(torch.__version__)\n",
    "print(torchaudio.__version__)\n",
    "\n",
    "import matplotlib.pyplot as plt\n",
    "from torchaudio.io import StreamReader\n",
    "\n",
    "base_url = \"https://download.pytorch.org/torchaudio/tutorial-assets\"\n",
    "AUDIO_URL = f\"{base_url}/Lab41-SRI-VOiCES-src-sp0307-ch127535-sg0042.wav\"\n",
    "VIDEO_URL = f\"{base_url}/stream-api/NASAs_Most_Scientifically_Complex_Space_Observatory_Requires_Precision-MP4.mp4\""
   ]
  },
  {
   "cell_type": "code",
   "execution_count": 2,
   "metadata": {},
   "outputs": [
    {
     "name": "stdout",
     "output_type": "stream",
     "text": [
      "The number of source streams: 1\n",
      "SourceAudioStream(media_type='audio', codec='pcm_s16le', codec_long_name='PCM signed 16-bit little-endian', format='s16', bit_rate=256000, num_frames=0, bits_per_sample=0, metadata={}, sample_rate=16000.0, num_channels=1)\n"
     ]
    }
   ],
   "source": [
    "streamer = StreamReader(AUDIO_URL)\n",
    "print(\"The number of source streams:\", streamer.num_src_streams)\n",
    "print(streamer.get_src_stream_info(0))"
   ]
  },
  {
   "cell_type": "code",
   "execution_count": 3,
   "metadata": {},
   "outputs": [
    {
     "name": "stdout",
     "output_type": "stream",
     "text": [
      "The number of source streams: 1\n",
      "SourceVideoStream(media_type='video', codec='mpeg4', codec_long_name='MPEG-4 part 2', format='yuv420p', bit_rate=927531, num_frames=85, bits_per_sample=0, metadata={'title': 'H:\\\\HumanActionDB\\\\MotionClips\\\\hmdb51_30fps_wBrd_10off_divx\\\\cartwh??'}, width=320, height=240, frame_rate=30.0)\n"
     ]
    }
   ],
   "source": [
    "streamer = StreamReader(\"data/HMDB51/hmdb51_org/cartwheel/(Rad)Schlag_die_Bank!_cartwheel_f_cm_np1_le_med_0.avi\")\n",
    "print(\"The number of source streams:\", streamer.num_src_streams)\n",
    "print(streamer.get_src_stream_info(0))"
   ]
  },
  {
   "cell_type": "code",
   "execution_count": 4,
   "metadata": {},
   "outputs": [
    {
     "name": "stdout",
     "output_type": "stream",
     "text": [
      "The number of source streams: 2\n",
      "SourceVideoStream(media_type='video', codec='h264', codec_long_name='H.264 / AVC / MPEG-4 AVC / MPEG-4 part 10', format='yuv420p', bit_rate=9958354, num_frames=6175, bits_per_sample=8, metadata={'creation_time': '2018-07-24T17:40:48.000000Z', 'language': 'eng', 'handler_name': '\\x1fMainconcept Video Media Handler', 'vendor_id': '[0][0][0][0]', 'encoder': 'AVC Coding'}, width=1920, height=1080, frame_rate=29.97002997002997)\n",
      "SourceAudioStream(media_type='audio', codec='aac', codec_long_name='AAC (Advanced Audio Coding)', format='fltp', bit_rate=317375, num_frames=9658, bits_per_sample=0, metadata={'creation_time': '2018-07-24T17:40:48.000000Z', 'language': 'eng', 'handler_name': '#Mainconcept MP4 Sound Media Handler', 'vendor_id': '[0][0][0][0]'}, sample_rate=48000.0, num_channels=2)\n"
     ]
    }
   ],
   "source": [
    "streamer = StreamReader(VIDEO_URL)\n",
    "print(\"The number of source streams:\", streamer.num_src_streams)\n",
    "for i in range(streamer.num_src_streams):\n",
    "    print(streamer.get_src_stream_info(i))"
   ]
  },
  {
   "cell_type": "markdown",
   "metadata": {},
   "source": [
    "# 直接阅读HMDB51的数据集代码，修改它即可获取video clips 和 audio clips"
   ]
  },
  {
   "cell_type": "code",
   "execution_count": null,
   "metadata": {},
   "outputs": [],
   "source": []
  }
 ],
 "metadata": {
  "kernelspec": {
   "display_name": "base",
   "language": "python",
   "name": "python3"
  },
  "language_info": {
   "codemirror_mode": {
    "name": "ipython",
    "version": 3
   },
   "file_extension": ".py",
   "mimetype": "text/x-python",
   "name": "python",
   "nbconvert_exporter": "python",
   "pygments_lexer": "ipython3",
   "version": "3.9.17"
  }
 },
 "nbformat": 4,
 "nbformat_minor": 2
}
